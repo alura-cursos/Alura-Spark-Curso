{
 "cells": [
  {
   "cell_type": "code",
   "execution_count": null,
   "metadata": {},
   "outputs": [],
   "source": [
    "from pyspark.sql import SparkSession\n",
    "\n",
    "spark = SparkSession.builder.appName('alura').getOrCreate()\n",
    "\n",
    "\n",
    "dataframe_site = spark.read.json('site.json')\n",
    "dataframe_loja = spark.read.format('orc').load('loja.orc')\n",
    "dataframe_contabilidade = spark.read.format('csv').option('header', True).option(\"delimiter\", \";\").load(\"contabilidade.csv.gz\")\n",
    "\n",
    "\n",
    "dataframe_contabilidade\n",
    "\n",
    "dataframe_site.show()\n",
    "dataframe_loja.show()\n",
    "dataframe_contabilidade.show()"
   ]
  },
  {
   "cell_type": "code",
   "execution_count": null,
   "metadata": {},
   "outputs": [],
   "source": [
    "from pyspark.sql.types import *\n",
    "\n",
    "schema = StructType([StructField(\"id\", IntegerType(), True),\n",
    "                     StructField(\"status\", StringType(), True),\n",
    "                     StructField(\"data_pedido\", TimestampType(), True)])\n",
    "\n",
    "dataframe_contabilidade = spark.read.format('csv').schema(schema).option('header', True).option(\"delimiter\", \";\").load(\"contabilidade.csv.gz\")\n",
    "\n",
    "\n",
    "dataframe_contabilidade.printSchema()\n",
    "\n",
    "dataframe_inner = dataframe_contabilidade.join(dataframe_site, dataframe_contabilidade.id == dataframe_site.id_ped)\n",
    "dataframe_inner.count()\n",
    "dataframe_inner.show()\n",
    "\n",
    "dataframe_site_loja = dataframe_loja.join(dataframe_site, dataframe_loja.id_pedido == dataframe_site.id_ped, how='full')\n",
    "dataframe_site_loja.show()\n",
    "dataframe_site_loja.count()\n",
    "\n",
    "dataframe_site_loja_dis = dataframe_site_loja.distinct()\n",
    "dataframe_site_loja_dis.count()\n"
   ]
  },
  {
   "cell_type": "code",
   "execution_count": null,
   "metadata": {},
   "outputs": [],
   "source": [
    "import pyspark.sql.functions as F\n",
    "\n",
    "dataframe_contabilidade.filter(dataframe_contabilidade.status == 'ENT').show(30, False)\n",
    "\n",
    "dataframe_fevereiro = dataframe_contabilidade.filter(dataframe_contabilidade.status == 'ENT')\n",
    "dataframe_fevereiro\n",
    "\n",
    "dataframe_fevereiro.filter(dataframe_fevereiro.data_pedido >= '2019-02-01').filter(dataframe_fevereiro.data_pedido <= '2019-02-28').show()\n",
    "\n",
    "dataframe_fevereiro = dataframe_fevereiro.filter(dataframe_fevereiro.data_pedido >= '2019-02-01').filter(dataframe_fevereiro.data_pedido <= '2019-02-28')\n",
    "dataframe_fevereiro.show()\n",
    "dataframe_fevereiro.count()\n",
    "\n",
    "dataframe_site_loja\n",
    "\n",
    "dataframe_groupby = dataframe_site_loja.groupBy(dataframe_site_loja.id_pedido).agg(F.sum(dataframe_site_loja.preco_venda).alias('preco_venda_agrupado'))\n",
    "\n",
    "dataframe_groupby.count()\n",
    "dataframe_site_loja.count()\n",
    "dataframe_groupby.show()"
   ]
  }
 ],
 "metadata": {
  "kernelspec": {
   "display_name": "Python 3",
   "language": "python",
   "name": "python3"
  },
  "language_info": {
   "codemirror_mode": {
    "name": "ipython",
    "version": 3
   },
   "file_extension": ".py",
   "mimetype": "text/x-python",
   "name": "python",
   "nbconvert_exporter": "python",
   "pygments_lexer": "ipython3",
   "version": "3.7.1"
  }
 },
 "nbformat": 4,
 "nbformat_minor": 2
}
